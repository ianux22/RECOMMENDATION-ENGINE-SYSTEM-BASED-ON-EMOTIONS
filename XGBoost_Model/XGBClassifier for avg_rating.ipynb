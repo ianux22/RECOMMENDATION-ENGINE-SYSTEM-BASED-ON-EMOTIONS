{
 "cells": [
  {
   "cell_type": "markdown",
   "metadata": {},
   "source": [
    "# Predictive Modelling"
   ]
  },
  {
   "cell_type": "markdown",
   "metadata": {},
   "source": [
    "Let's import the data"
   ]
  },
  {
   "cell_type": "code",
   "execution_count": 1,
   "metadata": {},
   "outputs": [],
   "source": [
    "import pandas as pd\n",
    "import numpy as np\n",
    "\n",
    "df = pd.read_csv(r\"C:\\Users\\leopa\\Google Drive\\Library\\George Brown\\II Semester\\DATA PROJECT CAPSTONE PROJECT\\Magid Capstone Project\\Prediction_table.csv\")"
   ]
  },
  {
   "cell_type": "code",
   "execution_count": 2,
   "metadata": {},
   "outputs": [
    {
     "name": "stdout",
     "output_type": "stream",
     "text": [
      "n rows: 234925 , n col: 61\n"
     ]
    }
   ],
   "source": [
    "print('n rows:', df.shape[0], ', n col:',  df.shape[1])"
   ]
  },
  {
   "cell_type": "markdown",
   "metadata": {},
   "source": [
    "We are going to group by movie the following features, in order to have per eah movie the percentage of users in each segment : \n",
    "\n",
    "    - is_favorite: how many users selected it as favorite?\n",
    "    - social_people_2: how many social watchers?\n",
    "    - casual_viewer_2: how many casual watchers?\n",
    "    - serious_2: how many serious watchers?\n",
    "    - follower_2: how many follwers watchers?"
   ]
  },
  {
   "cell_type": "markdown",
   "metadata": {},
   "source": [
    "We are also retrieving the average rating per movie, that is going to be our target variable"
   ]
  },
  {
   "cell_type": "code",
   "execution_count": 5,
   "metadata": {},
   "outputs": [
    {
     "name": "stderr",
     "output_type": "stream",
     "text": [
      "<ipython-input-5-201185f818c9>:1: FutureWarning: Indexing with multiple keys (implicitly converted to a tuple of keys) will be deprecated, use a list instead.\n",
      "  a = df.groupby('movie_id', as_index=False)['rating', 'is_favorite', 'social_people_2', 'casual_viewer_2', 'serious_2', 'follower_2',\n"
     ]
    },
    {
     "data": {
      "text/html": [
       "<div>\n",
       "<style scoped>\n",
       "    .dataframe tbody tr th:only-of-type {\n",
       "        vertical-align: middle;\n",
       "    }\n",
       "\n",
       "    .dataframe tbody tr th {\n",
       "        vertical-align: top;\n",
       "    }\n",
       "\n",
       "    .dataframe thead th {\n",
       "        text-align: right;\n",
       "    }\n",
       "</style>\n",
       "<table border=\"1\" class=\"dataframe\">\n",
       "  <thead>\n",
       "    <tr style=\"text-align: right;\">\n",
       "      <th></th>\n",
       "      <th>movie_id</th>\n",
       "      <th>avg_rating</th>\n",
       "      <th>is_favorite_avg</th>\n",
       "      <th>social_people</th>\n",
       "      <th>casual_viewer</th>\n",
       "      <th>serious</th>\n",
       "      <th>follower</th>\n",
       "      <th>freq_avg</th>\n",
       "    </tr>\n",
       "  </thead>\n",
       "  <tbody>\n",
       "    <tr>\n",
       "      <th>0</th>\n",
       "      <td>8984</td>\n",
       "      <td>4.284211</td>\n",
       "      <td>0.021053</td>\n",
       "      <td>0.410526</td>\n",
       "      <td>0.378947</td>\n",
       "      <td>0.442105</td>\n",
       "      <td>0.557895</td>\n",
       "      <td>0.947368</td>\n",
       "    </tr>\n",
       "    <tr>\n",
       "      <th>1</th>\n",
       "      <td>8985</td>\n",
       "      <td>4.175000</td>\n",
       "      <td>0.012500</td>\n",
       "      <td>0.312500</td>\n",
       "      <td>0.325000</td>\n",
       "      <td>0.162500</td>\n",
       "      <td>0.250000</td>\n",
       "      <td>0.737500</td>\n",
       "    </tr>\n",
       "    <tr>\n",
       "      <th>2</th>\n",
       "      <td>8986</td>\n",
       "      <td>3.896907</td>\n",
       "      <td>0.041237</td>\n",
       "      <td>0.185567</td>\n",
       "      <td>0.278351</td>\n",
       "      <td>0.237113</td>\n",
       "      <td>0.206186</td>\n",
       "      <td>0.835052</td>\n",
       "    </tr>\n",
       "    <tr>\n",
       "      <th>3</th>\n",
       "      <td>8987</td>\n",
       "      <td>3.800000</td>\n",
       "      <td>0.063158</td>\n",
       "      <td>0.242105</td>\n",
       "      <td>0.368421</td>\n",
       "      <td>0.189474</td>\n",
       "      <td>0.157895</td>\n",
       "      <td>0.842105</td>\n",
       "    </tr>\n",
       "    <tr>\n",
       "      <th>4</th>\n",
       "      <td>8988</td>\n",
       "      <td>4.225806</td>\n",
       "      <td>0.010753</td>\n",
       "      <td>0.365591</td>\n",
       "      <td>0.419355</td>\n",
       "      <td>0.387097</td>\n",
       "      <td>0.569892</td>\n",
       "      <td>1.000000</td>\n",
       "    </tr>\n",
       "    <tr>\n",
       "      <th>...</th>\n",
       "      <td>...</td>\n",
       "      <td>...</td>\n",
       "      <td>...</td>\n",
       "      <td>...</td>\n",
       "      <td>...</td>\n",
       "      <td>...</td>\n",
       "      <td>...</td>\n",
       "      <td>...</td>\n",
       "    </tr>\n",
       "    <tr>\n",
       "      <th>2613</th>\n",
       "      <td>13526</td>\n",
       "      <td>4.200000</td>\n",
       "      <td>0.231579</td>\n",
       "      <td>0.242105</td>\n",
       "      <td>0.010526</td>\n",
       "      <td>0.231579</td>\n",
       "      <td>0.063158</td>\n",
       "      <td>0.747368</td>\n",
       "    </tr>\n",
       "    <tr>\n",
       "      <th>2614</th>\n",
       "      <td>13527</td>\n",
       "      <td>4.395604</td>\n",
       "      <td>0.241758</td>\n",
       "      <td>0.186813</td>\n",
       "      <td>0.010989</td>\n",
       "      <td>0.285714</td>\n",
       "      <td>0.087912</td>\n",
       "      <td>0.593407</td>\n",
       "    </tr>\n",
       "    <tr>\n",
       "      <th>2615</th>\n",
       "      <td>13528</td>\n",
       "      <td>3.716981</td>\n",
       "      <td>0.075472</td>\n",
       "      <td>0.207547</td>\n",
       "      <td>0.018868</td>\n",
       "      <td>0.301887</td>\n",
       "      <td>0.056604</td>\n",
       "      <td>0.849057</td>\n",
       "    </tr>\n",
       "    <tr>\n",
       "      <th>2616</th>\n",
       "      <td>13529</td>\n",
       "      <td>4.289308</td>\n",
       "      <td>0.201258</td>\n",
       "      <td>0.251572</td>\n",
       "      <td>0.000000</td>\n",
       "      <td>0.245283</td>\n",
       "      <td>0.106918</td>\n",
       "      <td>0.761006</td>\n",
       "    </tr>\n",
       "    <tr>\n",
       "      <th>2617</th>\n",
       "      <td>13532</td>\n",
       "      <td>3.950617</td>\n",
       "      <td>0.111111</td>\n",
       "      <td>0.209877</td>\n",
       "      <td>0.012346</td>\n",
       "      <td>0.234568</td>\n",
       "      <td>0.135802</td>\n",
       "      <td>0.666667</td>\n",
       "    </tr>\n",
       "  </tbody>\n",
       "</table>\n",
       "<p>2618 rows × 8 columns</p>\n",
       "</div>"
      ],
      "text/plain": [
       "      movie_id  avg_rating  is_favorite_avg  social_people  casual_viewer  \\\n",
       "0         8984    4.284211         0.021053       0.410526       0.378947   \n",
       "1         8985    4.175000         0.012500       0.312500       0.325000   \n",
       "2         8986    3.896907         0.041237       0.185567       0.278351   \n",
       "3         8987    3.800000         0.063158       0.242105       0.368421   \n",
       "4         8988    4.225806         0.010753       0.365591       0.419355   \n",
       "...        ...         ...              ...            ...            ...   \n",
       "2613     13526    4.200000         0.231579       0.242105       0.010526   \n",
       "2614     13527    4.395604         0.241758       0.186813       0.010989   \n",
       "2615     13528    3.716981         0.075472       0.207547       0.018868   \n",
       "2616     13529    4.289308         0.201258       0.251572       0.000000   \n",
       "2617     13532    3.950617         0.111111       0.209877       0.012346   \n",
       "\n",
       "       serious  follower  freq_avg  \n",
       "0     0.442105  0.557895  0.947368  \n",
       "1     0.162500  0.250000  0.737500  \n",
       "2     0.237113  0.206186  0.835052  \n",
       "3     0.189474  0.157895  0.842105  \n",
       "4     0.387097  0.569892  1.000000  \n",
       "...        ...       ...       ...  \n",
       "2613  0.231579  0.063158  0.747368  \n",
       "2614  0.285714  0.087912  0.593407  \n",
       "2615  0.301887  0.056604  0.849057  \n",
       "2616  0.245283  0.106918  0.761006  \n",
       "2617  0.234568  0.135802  0.666667  \n",
       "\n",
       "[2618 rows x 8 columns]"
      ]
     },
     "execution_count": 5,
     "metadata": {},
     "output_type": "execute_result"
    }
   ],
   "source": [
    "a = df.groupby('movie_id', as_index=False)['rating', 'is_favorite', 'social_people_2', 'casual_viewer_2', 'serious_2', 'follower_2',\n",
    "       'freq'].mean()\n",
    "a = a.rename(columns={\"rating\": \"avg_rating\", \n",
    "                      \"is_favorite\": \"is_favorite_avg\",\n",
    "                     \"social_people_2\": \"social_people\",\n",
    "                     \"casual_viewer_2\":\"casual_viewer\",\n",
    "                     \"serious_2\":\"serious\",\n",
    "                     \"follower_2\":\"follower\",\n",
    "                     \"freq\":\"freq_avg\"})\n",
    "a"
   ]
  },
  {
   "cell_type": "code",
   "execution_count": 8,
   "metadata": {},
   "outputs": [],
   "source": [
    "df = df.drop_duplicates()\n"
   ]
  },
  {
   "cell_type": "code",
   "execution_count": 9,
   "metadata": {},
   "outputs": [
    {
     "data": {
      "text/plain": [
       "(2618, 54)"
      ]
     },
     "execution_count": 9,
     "metadata": {},
     "output_type": "execute_result"
    }
   ],
   "source": [
    "df.shape"
   ]
  },
  {
   "cell_type": "markdown",
   "metadata": {},
   "source": [
    "Now We just need to standardize numerical variable. \n",
    "\n",
    "We want to convert our X to a sparse matrix. Let's create a pipeline to do that.\n",
    "\n",
    "Basically a sparse matrix is a matrix with a lot of 0s, and let most of the algorithms to save some computation time.\n",
    "\n",
    "From Wikipedia:\n",
    "\n",
    "Operations using standard dense-matrix structures and algorithms are slow and inefficient when applied to large sparse matrices as processing and memory are wasted on the zeros. Sparse data is by nature more easily compressed and thus requires significantly less storage. Some very large sparse matrices are infeasible to manipulate using standard dense-matrix algorithms."
   ]
  },
  {
   "cell_type": "code",
   "execution_count": 10,
   "metadata": {},
   "outputs": [],
   "source": [
    "df.drop(['movie_id', 'movie_name'], axis=1, inplace=True)\n",
    "df['Final_Cluster'] = df['Final_Cluster'].astype(object)\n",
    "\n",
    "X = df.drop(columns=['avg_rating'])\n",
    "y = df.avg_rating"
   ]
  },
  {
   "cell_type": "code",
   "execution_count": 11,
   "metadata": {},
   "outputs": [
    {
     "data": {
      "text/plain": [
       "count    2618.000000\n",
       "mean        3.964226\n",
       "std         0.262663\n",
       "min         2.979592\n",
       "25%         3.788235\n",
       "50%         3.952661\n",
       "75%         4.153650\n",
       "max         4.740741\n",
       "Name: avg_rating, dtype: float64"
      ]
     },
     "execution_count": 11,
     "metadata": {},
     "output_type": "execute_result"
    }
   ],
   "source": [
    "y.describe()"
   ]
  },
  {
   "cell_type": "code",
   "execution_count": 12,
   "metadata": {},
   "outputs": [
    {
     "name": "stderr",
     "output_type": "stream",
     "text": [
      "<ipython-input-12-1ed2f656489b>:1: SettingWithCopyWarning: \n",
      "A value is trying to be set on a copy of a slice from a DataFrame\n",
      "\n",
      "See the caveats in the documentation: https://pandas.pydata.org/pandas-docs/stable/user_guide/indexing.html#returning-a-view-versus-a-copy\n",
      "  y[y<4] = 0\n",
      "<ipython-input-12-1ed2f656489b>:2: SettingWithCopyWarning: \n",
      "A value is trying to be set on a copy of a slice from a DataFrame\n",
      "\n",
      "See the caveats in the documentation: https://pandas.pydata.org/pandas-docs/stable/user_guide/indexing.html#returning-a-view-versus-a-copy\n",
      "  y[y>=4] = 1\n"
     ]
    },
    {
     "data": {
      "text/plain": [
       "count    2618.000000\n",
       "mean        0.438885\n",
       "std         0.496346\n",
       "min         0.000000\n",
       "25%         0.000000\n",
       "50%         0.000000\n",
       "75%         1.000000\n",
       "max         1.000000\n",
       "Name: avg_rating, dtype: float64"
      ]
     },
     "execution_count": 12,
     "metadata": {},
     "output_type": "execute_result"
    }
   ],
   "source": [
    "y[y<4] = 0\n",
    "y[y>=4] = 1\n",
    "\n",
    "y.describe()"
   ]
  },
  {
   "cell_type": "code",
   "execution_count": 21,
   "metadata": {},
   "outputs": [],
   "source": [
    "from sklearn.model_selection import train_test_split\n",
    "from sklearn.preprocessing import OneHotEncoder\n",
    "from scipy.sparse import csr_matrix\n",
    "from scipy.sparse import hstack\n",
    "from sklearn.base import TransformerMixin\n",
    "from sklearn.datasets import load_iris\n",
    "from sklearn.preprocessing import StandardScaler\n",
    "\n",
    "scale= StandardScaler()\n",
    "\n",
    "\n",
    "X_train, X_test_t, y_train, y_test_t = train_test_split(X, y, random_state=2, test_size = 0.5, stratify=y)\n",
    "X_test, X_val, y_test, y_val = train_test_split(X_test_t, y_test_t, random_state=2, test_size = 0.4, stratify=y_test_t)\n"
   ]
  },
  {
   "cell_type": "code",
   "execution_count": 22,
   "metadata": {},
   "outputs": [
    {
     "data": {
      "text/plain": [
       "0.0    441\n",
       "1.0    344\n",
       "Name: avg_rating, dtype: int64"
      ]
     },
     "execution_count": 22,
     "metadata": {},
     "output_type": "execute_result"
    }
   ],
   "source": [
    "y_test.value_counts()"
   ]
  },
  {
   "cell_type": "code",
   "execution_count": 23,
   "metadata": {},
   "outputs": [
    {
     "data": {
      "text/plain": [
       "0.0    294\n",
       "1.0    230\n",
       "Name: avg_rating, dtype: int64"
      ]
     },
     "execution_count": 23,
     "metadata": {},
     "output_type": "execute_result"
    }
   ],
   "source": [
    "y_val.value_counts()"
   ]
  },
  {
   "cell_type": "code",
   "execution_count": 24,
   "metadata": {},
   "outputs": [],
   "source": [
    "class SparseMatrix(TransformerMixin):\n",
    "    def __init__(self):\n",
    "        None\n",
    "    def fit(self, X, y=None):\n",
    "        return self\n",
    "    def transform(self, X, y=None):\n",
    "        categorical_columns= X.columns[X.dtypes==object].tolist()\n",
    "        ohe = OneHotEncoder() \n",
    "        hot = ohe.fit_transform(X[categorical_columns])\n",
    "        cold_df = X.select_dtypes(exclude=[\"object\"])\n",
    "        cold_df = scale.fit_transform(cold_df) \n",
    "        cold = csr_matrix(cold_df)\n",
    "        final_sparse_matrix = hstack((hot, cold))\n",
    "        final_csr_matrix = final_sparse_matrix.tocsr()\n",
    "        return final_csr_matrix"
   ]
  },
  {
   "cell_type": "code",
   "execution_count": 25,
   "metadata": {},
   "outputs": [
    {
     "name": "stdout",
     "output_type": "stream",
     "text": [
      "  (0, 7)\t1.0\n",
      "  (0, 9)\t-0.9617618689074791\n",
      "  (0, 10)\t-0.5886912018333011\n",
      "  (0, 11)\t-0.9996411172603092\n",
      "  (0, 12)\t-0.7283231424435357\n",
      "  (0, 13)\t-0.8852557841485358\n",
      "  (0, 14)\t-0.6239841109507226\n",
      "  (0, 15)\t-0.7747174643587889\n",
      "  (0, 16)\t-0.5816113825031005\n",
      "  (0, 17)\t-0.4809355891726493\n",
      "  (0, 18)\t-0.5260841530428996\n",
      "  (0, 19)\t-0.10049999271958715\n",
      "  (0, 20)\t-1.0740382754147844\n",
      "  (0, 21)\t-1.0973509178449665\n",
      "  (0, 22)\t0.8680040513828594\n",
      "  (0, 23)\t-0.28268166679161233\n",
      "  (0, 24)\t-0.29509745350028344\n",
      "  (0, 25)\t-0.4794710827096176\n",
      "  (0, 26)\t-0.4173904435942119\n",
      "  (0, 27)\t0.5880959354010774\n",
      "  (0, 28)\t-0.3361635284613052\n",
      "  (0, 29)\t-0.657894710356828\n",
      "  (0, 30)\t-0.7086859861264808\n",
      "  (0, 31)\t-1.3973912415626129\n",
      "  (0, 32)\t1.3672083053726223\n",
      "  :\t:\n",
      "  (1308, 34)\t-1.0029663995807632\n",
      "  (1308, 35)\t-1.1084350624410155\n",
      "  (1308, 36)\t-0.910149852083526\n",
      "  (1308, 37)\t-0.47034319482601167\n",
      "  (1308, 38)\t0.07886893026815361\n",
      "  (1308, 39)\t0.8734514112185666\n",
      "  (1308, 40)\t-0.4423767174019015\n",
      "  (1308, 41)\t1.430130130840224\n",
      "  (1308, 42)\t-0.6307698344433778\n",
      "  (1308, 43)\t0.5424531452840098\n",
      "  (1308, 44)\t-0.5500693646486797\n",
      "  (1308, 45)\t1.6934534123221052\n",
      "  (1308, 46)\t0.8048700712548762\n",
      "  (1308, 47)\t2.101896264309611\n",
      "  (1308, 48)\t-0.009515305319116872\n",
      "  (1308, 49)\t-0.9277097608996104\n",
      "  (1308, 50)\t-0.284146915180178\n",
      "  (1308, 51)\t-0.7323518353510181\n",
      "  (1308, 52)\t1.040045293080233\n",
      "  (1308, 53)\t-0.7965337259982629\n",
      "  (1308, 54)\t-0.43028036720624485\n",
      "  (1308, 55)\t0.5507032164282959\n",
      "  (1308, 56)\t0.8487133626984197\n",
      "  (1308, 57)\t-0.44404818773502025\n",
      "  (1308, 58)\t0.3562929716285922\n"
     ]
    }
   ],
   "source": [
    "X_train_transformed = SparseMatrix().fit_transform(X_train)\n",
    "print(X_train_transformed)"
   ]
  },
  {
   "cell_type": "code",
   "execution_count": 26,
   "metadata": {},
   "outputs": [
    {
     "data": {
      "text/html": [
       "<div>\n",
       "<style scoped>\n",
       "    .dataframe tbody tr th:only-of-type {\n",
       "        vertical-align: middle;\n",
       "    }\n",
       "\n",
       "    .dataframe tbody tr th {\n",
       "        vertical-align: top;\n",
       "    }\n",
       "\n",
       "    .dataframe thead th {\n",
       "        text-align: right;\n",
       "    }\n",
       "</style>\n",
       "<table border=\"1\" class=\"dataframe\">\n",
       "  <thead>\n",
       "    <tr style=\"text-align: right;\">\n",
       "      <th></th>\n",
       "      <th>0</th>\n",
       "      <th>1</th>\n",
       "      <th>2</th>\n",
       "      <th>3</th>\n",
       "      <th>4</th>\n",
       "      <th>5</th>\n",
       "      <th>6</th>\n",
       "      <th>7</th>\n",
       "      <th>8</th>\n",
       "      <th>9</th>\n",
       "      <th>...</th>\n",
       "      <th>49</th>\n",
       "      <th>50</th>\n",
       "      <th>51</th>\n",
       "      <th>52</th>\n",
       "      <th>53</th>\n",
       "      <th>54</th>\n",
       "      <th>55</th>\n",
       "      <th>56</th>\n",
       "      <th>57</th>\n",
       "      <th>58</th>\n",
       "    </tr>\n",
       "  </thead>\n",
       "  <tbody>\n",
       "    <tr>\n",
       "      <th>0</th>\n",
       "      <td>0.0</td>\n",
       "      <td>0.0</td>\n",
       "      <td>0.0</td>\n",
       "      <td>0.0</td>\n",
       "      <td>0.0</td>\n",
       "      <td>0.0</td>\n",
       "      <td>0.0</td>\n",
       "      <td>1.0</td>\n",
       "      <td>0.0</td>\n",
       "      <td>-0.961762</td>\n",
       "      <td>...</td>\n",
       "      <td>-1.028440</td>\n",
       "      <td>-0.746234</td>\n",
       "      <td>-0.737108</td>\n",
       "      <td>-0.474733</td>\n",
       "      <td>-0.346633</td>\n",
       "      <td>-0.907908</td>\n",
       "      <td>1.310393</td>\n",
       "      <td>-0.719159</td>\n",
       "      <td>-1.293074</td>\n",
       "      <td>0.054625</td>\n",
       "    </tr>\n",
       "    <tr>\n",
       "      <th>1</th>\n",
       "      <td>0.0</td>\n",
       "      <td>0.0</td>\n",
       "      <td>1.0</td>\n",
       "      <td>0.0</td>\n",
       "      <td>0.0</td>\n",
       "      <td>0.0</td>\n",
       "      <td>0.0</td>\n",
       "      <td>0.0</td>\n",
       "      <td>0.0</td>\n",
       "      <td>-0.868951</td>\n",
       "      <td>...</td>\n",
       "      <td>1.406816</td>\n",
       "      <td>-0.658306</td>\n",
       "      <td>2.047529</td>\n",
       "      <td>-1.231976</td>\n",
       "      <td>1.337281</td>\n",
       "      <td>-0.875911</td>\n",
       "      <td>-1.910414</td>\n",
       "      <td>-0.833219</td>\n",
       "      <td>0.062272</td>\n",
       "      <td>-1.953217</td>\n",
       "    </tr>\n",
       "    <tr>\n",
       "      <th>2</th>\n",
       "      <td>0.0</td>\n",
       "      <td>0.0</td>\n",
       "      <td>0.0</td>\n",
       "      <td>1.0</td>\n",
       "      <td>0.0</td>\n",
       "      <td>0.0</td>\n",
       "      <td>0.0</td>\n",
       "      <td>0.0</td>\n",
       "      <td>0.0</td>\n",
       "      <td>-0.604597</td>\n",
       "      <td>...</td>\n",
       "      <td>-0.147518</td>\n",
       "      <td>-0.179475</td>\n",
       "      <td>-0.131252</td>\n",
       "      <td>0.611837</td>\n",
       "      <td>-0.199544</td>\n",
       "      <td>2.497163</td>\n",
       "      <td>-0.039778</td>\n",
       "      <td>0.586773</td>\n",
       "      <td>-0.420285</td>\n",
       "      <td>0.519995</td>\n",
       "    </tr>\n",
       "    <tr>\n",
       "      <th>3</th>\n",
       "      <td>0.0</td>\n",
       "      <td>0.0</td>\n",
       "      <td>0.0</td>\n",
       "      <td>0.0</td>\n",
       "      <td>1.0</td>\n",
       "      <td>0.0</td>\n",
       "      <td>0.0</td>\n",
       "      <td>0.0</td>\n",
       "      <td>0.0</td>\n",
       "      <td>-0.348182</td>\n",
       "      <td>...</td>\n",
       "      <td>-0.535627</td>\n",
       "      <td>-0.388456</td>\n",
       "      <td>-1.007418</td>\n",
       "      <td>0.204020</td>\n",
       "      <td>-1.024876</td>\n",
       "      <td>-0.989304</td>\n",
       "      <td>0.003917</td>\n",
       "      <td>-0.530448</td>\n",
       "      <td>-0.099664</td>\n",
       "      <td>0.482101</td>\n",
       "    </tr>\n",
       "    <tr>\n",
       "      <th>4</th>\n",
       "      <td>0.0</td>\n",
       "      <td>0.0</td>\n",
       "      <td>0.0</td>\n",
       "      <td>0.0</td>\n",
       "      <td>0.0</td>\n",
       "      <td>0.0</td>\n",
       "      <td>0.0</td>\n",
       "      <td>0.0</td>\n",
       "      <td>1.0</td>\n",
       "      <td>1.609713</td>\n",
       "      <td>...</td>\n",
       "      <td>-0.525835</td>\n",
       "      <td>-0.236987</td>\n",
       "      <td>-0.502130</td>\n",
       "      <td>-0.310457</td>\n",
       "      <td>3.004686</td>\n",
       "      <td>-3.117074</td>\n",
       "      <td>-3.064784</td>\n",
       "      <td>-2.407458</td>\n",
       "      <td>-1.665046</td>\n",
       "      <td>-7.103401</td>\n",
       "    </tr>\n",
       "  </tbody>\n",
       "</table>\n",
       "<p>5 rows × 59 columns</p>\n",
       "</div>"
      ],
      "text/plain": [
       "    0    1    2    3    4    5    6    7    8         9   ...        49  \\\n",
       "0  0.0  0.0  0.0  0.0  0.0  0.0  0.0  1.0  0.0 -0.961762  ... -1.028440   \n",
       "1  0.0  0.0  1.0  0.0  0.0  0.0  0.0  0.0  0.0 -0.868951  ...  1.406816   \n",
       "2  0.0  0.0  0.0  1.0  0.0  0.0  0.0  0.0  0.0 -0.604597  ... -0.147518   \n",
       "3  0.0  0.0  0.0  0.0  1.0  0.0  0.0  0.0  0.0 -0.348182  ... -0.535627   \n",
       "4  0.0  0.0  0.0  0.0  0.0  0.0  0.0  0.0  1.0  1.609713  ... -0.525835   \n",
       "\n",
       "         50        51        52        53        54        55        56  \\\n",
       "0 -0.746234 -0.737108 -0.474733 -0.346633 -0.907908  1.310393 -0.719159   \n",
       "1 -0.658306  2.047529 -1.231976  1.337281 -0.875911 -1.910414 -0.833219   \n",
       "2 -0.179475 -0.131252  0.611837 -0.199544  2.497163 -0.039778  0.586773   \n",
       "3 -0.388456 -1.007418  0.204020 -1.024876 -0.989304  0.003917 -0.530448   \n",
       "4 -0.236987 -0.502130 -0.310457  3.004686 -3.117074 -3.064784 -2.407458   \n",
       "\n",
       "         57        58  \n",
       "0 -1.293074  0.054625  \n",
       "1  0.062272 -1.953217  \n",
       "2 -0.420285  0.519995  \n",
       "3 -0.099664  0.482101  \n",
       "4 -1.665046 -7.103401  \n",
       "\n",
       "[5 rows x 59 columns]"
      ]
     },
     "execution_count": 26,
     "metadata": {},
     "output_type": "execute_result"
    }
   ],
   "source": [
    "sm_df = pd.DataFrame(X_train_transformed.toarray())\n",
    "sm_df.head()"
   ]
  },
  {
   "cell_type": "code",
   "execution_count": 27,
   "metadata": {},
   "outputs": [],
   "source": [
    "import numpy as np\n",
    "from sklearn.model_selection import GridSearchCV\n",
    "from sklearn.model_selection import cross_val_score, KFold\n",
    "from sklearn.metrics import accuracy_score\n",
    "from xgboost import XGBClassifier"
   ]
  },
  {
   "cell_type": "code",
   "execution_count": 28,
   "metadata": {},
   "outputs": [],
   "source": [
    "# Import GridSearchCV\n",
    "from sklearn.model_selection import StratifiedKFold\n",
    "\n",
    "kfold = StratifiedKFold(n_splits=5, shuffle=True, random_state=2)"
   ]
  },
  {
   "cell_type": "code",
   "execution_count": 29,
   "metadata": {},
   "outputs": [],
   "source": [
    "def cross_val(model):\n",
    "    scores = cross_val_score(model, X_train_transformed, y_train, scoring='accuracy', cv=kfold)\n",
    "    rmse = (-scores.mean())\n",
    "    return rmse"
   ]
  },
  {
   "cell_type": "code",
   "execution_count": 30,
   "metadata": {},
   "outputs": [],
   "source": [
    "# Import GridSearchCV\n",
    "from sklearn.model_selection import GridSearchCV, RandomizedSearchCV, StratifiedKFold"
   ]
  },
  {
   "cell_type": "code",
   "execution_count": 31,
   "metadata": {},
   "outputs": [],
   "source": [
    "def grid_search(params, reg=XGBClassifier(objective='binary:logistic')):\n",
    "    grid_reg = GridSearchCV(reg, params, scoring='accuracy', cv=kfold)\n",
    "    grid_reg.fit(X_train_transformed, y_train)\n",
    "    best_params = grid_reg.best_params_\n",
    "    print(\"Best params:\", best_params)\n",
    "    best_score = np.sqrt(-grid_reg.best_score_)\n",
    "    print(\"Best score:\", best_score)"
   ]
  },
  {
   "cell_type": "code",
   "execution_count": 32,
   "metadata": {},
   "outputs": [],
   "source": [
    "def Rgrid_search(params, reg=XGBClassifier(objective='binary:logistic')):\n",
    "    grid_reg = RandomizedSearchCV(reg, params, scoring='neg_mean_squared_error', cv=kfold)\n",
    "    grid_reg.fit(X_train_transformed, y_train)\n",
    "    best_params = grid_reg.best_params_\n",
    "    print(\"Best params:\", best_params)\n",
    "    best_score = np.sqrt(-grid_reg.best_score_)\n",
    "    print(\"Best score:\", best_score)"
   ]
  },
  {
   "cell_type": "code",
   "execution_count": 33,
   "metadata": {},
   "outputs": [],
   "source": [
    "model = XGBClassifier(booster='gbtree', objective='binary:logistic', eval_metric='logloss', random_state=2)"
   ]
  },
  {
   "cell_type": "code",
   "execution_count": 34,
   "metadata": {},
   "outputs": [
    {
     "name": "stderr",
     "output_type": "stream",
     "text": [
      "C:\\Users\\leopa\\anaconda3\\envs\\Python\\lib\\site-packages\\xgboost\\sklearn.py:888: UserWarning: The use of label encoder in XGBClassifier is deprecated and will be removed in a future release. To remove this warning, do the following: 1) Pass option use_label_encoder=False when constructing XGBClassifier object; and 2) Encode your labels (y) as integers starting with 0, i.e. 0, 1, 2, ..., [num_class - 1].\n",
      "  warnings.warn(label_encoder_deprecation_msg, UserWarning)\n",
      "C:\\Users\\leopa\\anaconda3\\envs\\Python\\lib\\site-packages\\xgboost\\sklearn.py:888: UserWarning: The use of label encoder in XGBClassifier is deprecated and will be removed in a future release. To remove this warning, do the following: 1) Pass option use_label_encoder=False when constructing XGBClassifier object; and 2) Encode your labels (y) as integers starting with 0, i.e. 0, 1, 2, ..., [num_class - 1].\n",
      "  warnings.warn(label_encoder_deprecation_msg, UserWarning)\n",
      "C:\\Users\\leopa\\anaconda3\\envs\\Python\\lib\\site-packages\\xgboost\\sklearn.py:888: UserWarning: The use of label encoder in XGBClassifier is deprecated and will be removed in a future release. To remove this warning, do the following: 1) Pass option use_label_encoder=False when constructing XGBClassifier object; and 2) Encode your labels (y) as integers starting with 0, i.e. 0, 1, 2, ..., [num_class - 1].\n",
      "  warnings.warn(label_encoder_deprecation_msg, UserWarning)\n",
      "C:\\Users\\leopa\\anaconda3\\envs\\Python\\lib\\site-packages\\xgboost\\sklearn.py:888: UserWarning: The use of label encoder in XGBClassifier is deprecated and will be removed in a future release. To remove this warning, do the following: 1) Pass option use_label_encoder=False when constructing XGBClassifier object; and 2) Encode your labels (y) as integers starting with 0, i.e. 0, 1, 2, ..., [num_class - 1].\n",
      "  warnings.warn(label_encoder_deprecation_msg, UserWarning)\n",
      "C:\\Users\\leopa\\anaconda3\\envs\\Python\\lib\\site-packages\\xgboost\\sklearn.py:888: UserWarning: The use of label encoder in XGBClassifier is deprecated and will be removed in a future release. To remove this warning, do the following: 1) Pass option use_label_encoder=False when constructing XGBClassifier object; and 2) Encode your labels (y) as integers starting with 0, i.e. 0, 1, 2, ..., [num_class - 1].\n",
      "  warnings.warn(label_encoder_deprecation_msg, UserWarning)\n"
     ]
    },
    {
     "name": "stdout",
     "output_type": "stream",
     "text": [
      "Accuracy: [0.83 0.84 0.82 0.81 0.83]\n",
      "Accuracy mean: 0.83\n"
     ]
    }
   ],
   "source": [
    "# Import cross_val_score\n",
    "from sklearn.model_selection import cross_val_score\n",
    "\n",
    "# Import numpy\n",
    "import numpy as np\n",
    "\n",
    "# Obtain scores of cross-validation\n",
    "scores = cross_val_score(model, X_train_transformed, y_train, cv=5)\n",
    "\n",
    "# Display accuracy\n",
    "print('Accuracy:', np.round(scores, 2))\n",
    "\n",
    "# Display mean accuracy\n",
    "print('Accuracy mean: %0.2f' % (scores.mean()))"
   ]
  },
  {
   "cell_type": "code",
   "execution_count": 35,
   "metadata": {},
   "outputs": [],
   "source": [
    "def grid_search(params, random=False): \n",
    "    \n",
    "    xgb = XGBClassifier(booster='gbtree', objective='binary:logistic', random_state=2)\n",
    "    \n",
    "    kfold = StratifiedKFold(n_splits=5, shuffle=True, random_state=2)\n",
    "    \n",
    "    if random:\n",
    "        grid = RandomizedSearchCV(xgb, params, cv=kfold, n_iter=20, n_jobs=-1, random_state=2)\n",
    "    else:\n",
    "        # Instantiate GridSearchCV as grid_reg\n",
    "        grid = GridSearchCV(xgb, params, cv=kfold, n_jobs=-1)\n",
    "    \n",
    "    # Fit grid_reg on X_train and y_train\n",
    "    grid.fit(X_train_transformed, y_train)\n",
    "\n",
    "    # Extract best params\n",
    "    best_params = grid.best_params_\n",
    "\n",
    "    # Print best params\n",
    "    print(\"Best params:\", best_params)\n",
    "    \n",
    "    # Compute best score\n",
    "    best_score = grid.best_score_\n",
    "\n",
    "    # Print best score\n",
    "    print(\"Best score: {:.5f}\".format(best_score))"
   ]
  },
  {
   "cell_type": "markdown",
   "metadata": {},
   "source": [
    "## Tuning"
   ]
  },
  {
   "cell_type": "code",
   "execution_count": 47,
   "metadata": {},
   "outputs": [
    {
     "name": "stderr",
     "output_type": "stream",
     "text": [
      "C:\\Users\\leopa\\anaconda3\\envs\\Python\\lib\\site-packages\\xgboost\\sklearn.py:888: UserWarning: The use of label encoder in XGBClassifier is deprecated and will be removed in a future release. To remove this warning, do the following: 1) Pass option use_label_encoder=False when constructing XGBClassifier object; and 2) Encode your labels (y) as integers starting with 0, i.e. 0, 1, 2, ..., [num_class - 1].\n",
      "  warnings.warn(label_encoder_deprecation_msg, UserWarning)\n"
     ]
    },
    {
     "name": "stdout",
     "output_type": "stream",
     "text": [
      "[12:46:27] WARNING: C:/Users/Administrator/workspace/xgboost-win64_release_1.3.0/src/learner.cc:1061: Starting in XGBoost 1.3.0, the default evaluation metric used with the objective 'binary:logistic' was changed from 'error' to 'logloss'. Explicitly set eval_metric if you'd like to restore the old behavior.\n",
      "Best params: {'n_estimators': 100}\n",
      "Best score: 0.82750\n"
     ]
    }
   ],
   "source": [
    "grid_search(params={'n_estimators':[100, 200, 400, 800]})"
   ]
  },
  {
   "cell_type": "code",
   "execution_count": 48,
   "metadata": {},
   "outputs": [
    {
     "name": "stderr",
     "output_type": "stream",
     "text": [
      "C:\\Users\\leopa\\anaconda3\\envs\\Python\\lib\\site-packages\\xgboost\\sklearn.py:888: UserWarning: The use of label encoder in XGBClassifier is deprecated and will be removed in a future release. To remove this warning, do the following: 1) Pass option use_label_encoder=False when constructing XGBClassifier object; and 2) Encode your labels (y) as integers starting with 0, i.e. 0, 1, 2, ..., [num_class - 1].\n",
      "  warnings.warn(label_encoder_deprecation_msg, UserWarning)\n"
     ]
    },
    {
     "name": "stdout",
     "output_type": "stream",
     "text": [
      "[12:47:49] WARNING: C:/Users/Administrator/workspace/xgboost-win64_release_1.3.0/src/learner.cc:1061: Starting in XGBoost 1.3.0, the default evaluation metric used with the objective 'binary:logistic' was changed from 'error' to 'logloss'. Explicitly set eval_metric if you'd like to restore the old behavior.\n",
      "Best params: {'learning_rate': 0.2, 'n_estimators': 100}\n",
      "Best score: 0.83351\n"
     ]
    }
   ],
   "source": [
    "grid_search(params={'n_estimators':[100],\n",
    "                    'learning_rate':[0.01, 0.05, 0.1, 0.2, 0.3, 0.4, 0.5]})"
   ]
  },
  {
   "cell_type": "code",
   "execution_count": 52,
   "metadata": {},
   "outputs": [
    {
     "name": "stderr",
     "output_type": "stream",
     "text": [
      "C:\\Users\\leopa\\anaconda3\\envs\\Python\\lib\\site-packages\\xgboost\\sklearn.py:888: UserWarning: The use of label encoder in XGBClassifier is deprecated and will be removed in a future release. To remove this warning, do the following: 1) Pass option use_label_encoder=False when constructing XGBClassifier object; and 2) Encode your labels (y) as integers starting with 0, i.e. 0, 1, 2, ..., [num_class - 1].\n",
      "  warnings.warn(label_encoder_deprecation_msg, UserWarning)\n"
     ]
    },
    {
     "name": "stdout",
     "output_type": "stream",
     "text": [
      "[12:51:13] WARNING: C:/Users/Administrator/workspace/xgboost-win64_release_1.3.0/src/learner.cc:1061: Starting in XGBoost 1.3.0, the default evaluation metric used with the objective 'binary:logistic' was changed from 'error' to 'logloss'. Explicitly set eval_metric if you'd like to restore the old behavior.\n",
      "Best params: {'gamma': 0.01, 'learning_rate': 0.2, 'max_depth': 5, 'n_estimators': 100}\n",
      "Best score: 0.83787\n"
     ]
    }
   ],
   "source": [
    "grid_search(params={'n_estimators':[100],\n",
    "                    'learning_rate':[0.2],\n",
    "                    'max_depth':[2, 3, 5, 6, 8],\n",
    "                    'gamma':[0, 0.01, 0.1, 0.5, 1, 2]})"
   ]
  },
  {
   "cell_type": "code",
   "execution_count": 56,
   "metadata": {},
   "outputs": [
    {
     "name": "stderr",
     "output_type": "stream",
     "text": [
      "C:\\Users\\leopa\\anaconda3\\envs\\Python\\lib\\site-packages\\xgboost\\sklearn.py:888: UserWarning: The use of label encoder in XGBClassifier is deprecated and will be removed in a future release. To remove this warning, do the following: 1) Pass option use_label_encoder=False when constructing XGBClassifier object; and 2) Encode your labels (y) as integers starting with 0, i.e. 0, 1, 2, ..., [num_class - 1].\n",
      "  warnings.warn(label_encoder_deprecation_msg, UserWarning)\n"
     ]
    },
    {
     "name": "stdout",
     "output_type": "stream",
     "text": [
      "[12:56:11] WARNING: C:/Users/Administrator/workspace/xgboost-win64_release_1.3.0/src/learner.cc:1061: Starting in XGBoost 1.3.0, the default evaluation metric used with the objective 'binary:logistic' was changed from 'error' to 'logloss'. Explicitly set eval_metric if you'd like to restore the old behavior.\n",
      "Best params: {'colsample_bytree': 0.5, 'gamma': 0.01, 'learning_rate': 0.2, 'max_depth': 5, 'n_estimators': 100, 'subsample': 0.6}\n",
      "Best score: 0.84115\n"
     ]
    }
   ],
   "source": [
    "grid_search(params={'n_estimators':[100],\n",
    "                    'learning_rate':[0.2],\n",
    "                    'max_depth':[5],\n",
    "                    'gamma': [0.01],\n",
    "                    'subsample':[0.6, 0.7, 0.8],\n",
    "                    'colsample_bytree':[0.4,0.5,0.6]})"
   ]
  },
  {
   "cell_type": "code",
   "execution_count": 36,
   "metadata": {},
   "outputs": [
    {
     "name": "stderr",
     "output_type": "stream",
     "text": [
      "C:\\Users\\leopa\\anaconda3\\envs\\Python\\lib\\site-packages\\xgboost\\sklearn.py:888: UserWarning: The use of label encoder in XGBClassifier is deprecated and will be removed in a future release. To remove this warning, do the following: 1) Pass option use_label_encoder=False when constructing XGBClassifier object; and 2) Encode your labels (y) as integers starting with 0, i.e. 0, 1, 2, ..., [num_class - 1].\n",
      "  warnings.warn(label_encoder_deprecation_msg, UserWarning)\n"
     ]
    },
    {
     "name": "stdout",
     "output_type": "stream",
     "text": [
      "[16:55:23] WARNING: C:/Users/Administrator/workspace/xgboost-win64_release_1.3.0/src/learner.cc:1061: Starting in XGBoost 1.3.0, the default evaluation metric used with the objective 'binary:logistic' was changed from 'error' to 'logloss'. Explicitly set eval_metric if you'd like to restore the old behavior.\n",
      "Best params: {'colsample_bytree': 0.5, 'gamma': 0.01, 'learning_rate': 0.2, 'max_depth': 5, 'n_estimators': 100, 'subsample': 0.6}\n",
      "Best score: 0.81208\n"
     ]
    }
   ],
   "source": [
    "grid_search(params={'n_estimators':[100],\n",
    "                    'learning_rate':[0.2],\n",
    "                    'max_depth':[5],\n",
    "                    'gamma': [0.01],\n",
    "                    'subsample':[0.6],\n",
    "                    'colsample_bytree':[0.5]})"
   ]
  },
  {
   "cell_type": "markdown",
   "metadata": {},
   "source": [
    "### Model Evaluation on test set"
   ]
  },
  {
   "cell_type": "code",
   "execution_count": 42,
   "metadata": {},
   "outputs": [],
   "source": [
    "from sklearn.metrics import mean_absolute_error"
   ]
  },
  {
   "cell_type": "code",
   "execution_count": 43,
   "metadata": {},
   "outputs": [],
   "source": [
    "X_train_transformed = SparseMatrix().fit_transform(X_train)"
   ]
  },
  {
   "cell_type": "code",
   "execution_count": 44,
   "metadata": {},
   "outputs": [],
   "source": [
    "X_test_transformed = SparseMatrix().fit_transform(X_test)"
   ]
  },
  {
   "cell_type": "code",
   "execution_count": 45,
   "metadata": {},
   "outputs": [
    {
     "name": "stdout",
     "output_type": "stream",
     "text": [
      "[0]\tvalidation_0-error:0.27006\n",
      "[1]\tvalidation_0-error:0.22548\n",
      "[2]\tvalidation_0-error:0.22803\n",
      "[3]\tvalidation_0-error:0.21401\n",
      "[4]\tvalidation_0-error:0.21146\n",
      "[5]\tvalidation_0-error:0.21529\n",
      "[6]\tvalidation_0-error:0.20764\n",
      "[7]\tvalidation_0-error:0.20127\n",
      "[8]\tvalidation_0-error:0.19745\n",
      "[9]\tvalidation_0-error:0.19490\n",
      "[10]\tvalidation_0-error:0.18981\n",
      "[11]\tvalidation_0-error:0.18726\n",
      "[12]\tvalidation_0-error:0.18854\n",
      "[13]\tvalidation_0-error:0.19108\n",
      "[14]\tvalidation_0-error:0.19236\n",
      "[15]\tvalidation_0-error:0.18981\n",
      "[16]\tvalidation_0-error:0.18981\n",
      "[17]\tvalidation_0-error:0.18726\n",
      "[18]\tvalidation_0-error:0.18726\n",
      "[19]\tvalidation_0-error:0.17834\n"
     ]
    },
    {
     "name": "stderr",
     "output_type": "stream",
     "text": [
      "C:\\Users\\leopa\\anaconda3\\envs\\Python\\lib\\site-packages\\xgboost\\sklearn.py:888: UserWarning: The use of label encoder in XGBClassifier is deprecated and will be removed in a future release. To remove this warning, do the following: 1) Pass option use_label_encoder=False when constructing XGBClassifier object; and 2) Encode your labels (y) as integers starting with 0, i.e. 0, 1, 2, ..., [num_class - 1].\n",
      "  warnings.warn(label_encoder_deprecation_msg, UserWarning)\n"
     ]
    },
    {
     "name": "stdout",
     "output_type": "stream",
     "text": [
      "[20]\tvalidation_0-error:0.18599\n",
      "[21]\tvalidation_0-error:0.18726\n",
      "[22]\tvalidation_0-error:0.18471\n",
      "[23]\tvalidation_0-error:0.17962\n",
      "[24]\tvalidation_0-error:0.17580\n",
      "[25]\tvalidation_0-error:0.17962\n",
      "[26]\tvalidation_0-error:0.17452\n",
      "[27]\tvalidation_0-error:0.17707\n",
      "[28]\tvalidation_0-error:0.17580\n",
      "[29]\tvalidation_0-error:0.18089\n",
      "[30]\tvalidation_0-error:0.17707\n",
      "[31]\tvalidation_0-error:0.17707\n",
      "[32]\tvalidation_0-error:0.17197\n",
      "[33]\tvalidation_0-error:0.17325\n",
      "[34]\tvalidation_0-error:0.16815\n",
      "[35]\tvalidation_0-error:0.17070\n",
      "[36]\tvalidation_0-error:0.16688\n",
      "[37]\tvalidation_0-error:0.17070\n",
      "[38]\tvalidation_0-error:0.17325\n",
      "[39]\tvalidation_0-error:0.16815\n",
      "[40]\tvalidation_0-error:0.17580\n",
      "[41]\tvalidation_0-error:0.17962\n",
      "[42]\tvalidation_0-error:0.17452\n",
      "[43]\tvalidation_0-error:0.17197\n",
      "[44]\tvalidation_0-error:0.16943\n",
      "[45]\tvalidation_0-error:0.17197\n",
      "[46]\tvalidation_0-error:0.17070\n",
      "Accuracy: 83.31%\n"
     ]
    }
   ],
   "source": [
    "model = XGBClassifier(booster='gbtree', objective='binary:logistic', random_state=2,\n",
    "                     n_estimators = 100,\n",
    "                     learning_rate = 0.2,\n",
    "                     max_depth = 5,\n",
    "                     gamma = 0.01,\n",
    "                     subsample = 0.6,\n",
    "                     colsample_bytree=0.5)\n",
    "eval_set = [(X_test_transformed, y_test)]\n",
    "eval_metric='error'\n",
    "model.fit(X_train_transformed, y_train, eval_metric=eval_metric, eval_set=eval_set, early_stopping_rounds=10)\n",
    "# make predictions for test data\n",
    "y_pred = model.predict(X_test_transformed)\n",
    "# evaluate predictions\n",
    "accuracy = accuracy_score(y_test, y_pred)\n",
    "print(\"Accuracy: %.2f%%\" % (accuracy * 100.0))"
   ]
  },
  {
   "cell_type": "code",
   "execution_count": 46,
   "metadata": {},
   "outputs": [
    {
     "data": {
      "text/plain": [
       "<matplotlib.axes._subplots.AxesSubplot at 0x2bf892d0730>"
      ]
     },
     "execution_count": 46,
     "metadata": {},
     "output_type": "execute_result"
    },
    {
     "data": {
      "image/png": "[encoded data removed]",
      "text/plain": [
       "<Figure size 432x288 with 2 Axes>"
      ]
     },
     "metadata": {
      "needs_background": "light"
     },
     "output_type": "display_data"
    }
   ],
   "source": [
    "from sklearn.metrics import confusion_matrix\n",
    "\n",
    "cf_matrix = confusion_matrix(y_test, y_pred)\n",
    "\n",
    "group_names = ['True Neg','False Pos','False Neg','True Pos']\n",
    "group_counts = ['{0:0.0f}'.format(value) for value in\n",
    "                cf_matrix.flatten()]\n",
    "group_percentages = ['{0:.2%}'.format(value) for value in\n",
    "                     cf_matrix.flatten()/np.sum(cf_matrix)]\n",
    "labels = [f'{v1}\\n{v2}\\n{v3}' for v1, v2, v3 in\n",
    "          zip(group_names,group_counts,group_percentages)]\n",
    "labels = np.asarray(labels).reshape(2,2)\n",
    "\n",
    "import seaborn as sns\n",
    "sns.heatmap(cf_matrix, annot=True, fmt='', cmap='Blues')"
   ]
  },
  {
   "cell_type": "markdown",
   "metadata": {},
   "source": [
    "## model evaluation on validation set"
   ]
  },
  {
   "cell_type": "code",
   "execution_count": 47,
   "metadata": {},
   "outputs": [],
   "source": [
    "X_val_transformed = SparseMatrix().fit_transform(X_val)"
   ]
  },
  {
   "cell_type": "code",
   "execution_count": 48,
   "metadata": {},
   "outputs": [
    {
     "name": "stdout",
     "output_type": "stream",
     "text": [
      "[0]\tvalidation_0-error:0.21543\n",
      "[1]\tvalidation_0-error:0.15432\n",
      "[2]\tvalidation_0-error:0.14286\n",
      "[3]\tvalidation_0-error:0.12070\n",
      "[4]\tvalidation_0-error:0.11612\n",
      "[5]\tvalidation_0-error:0.11383\n",
      "[6]\tvalidation_0-error:0.10924\n",
      "[7]\tvalidation_0-error:0.09931\n",
      "[8]\tvalidation_0-error:0.10084\n",
      "[9]\tvalidation_0-error:0.10160\n",
      "[10]\tvalidation_0-error:0.09244\n",
      "[11]\tvalidation_0-error:0.08632\n",
      "[12]\tvalidation_0-error:0.08021\n",
      "[13]\tvalidation_0-error:0.07869\n",
      "[14]\tvalidation_0-error:0.07563\n",
      "[15]\tvalidation_0-error:0.07257\n",
      "[16]\tvalidation_0-error:0.06799\n",
      "[17]\tvalidation_0-error:0.06494\n",
      "[18]\tvalidation_0-error:0.06188\n"
     ]
    },
    {
     "name": "stderr",
     "output_type": "stream",
     "text": [
      "C:\\Users\\leopa\\anaconda3\\envs\\Python\\lib\\site-packages\\xgboost\\sklearn.py:888: UserWarning: The use of label encoder in XGBClassifier is deprecated and will be removed in a future release. To remove this warning, do the following: 1) Pass option use_label_encoder=False when constructing XGBClassifier object; and 2) Encode your labels (y) as integers starting with 0, i.e. 0, 1, 2, ..., [num_class - 1].\n",
      "  warnings.warn(label_encoder_deprecation_msg, UserWarning)\n"
     ]
    },
    {
     "name": "stdout",
     "output_type": "stream",
     "text": [
      "[19]\tvalidation_0-error:0.05959\n",
      "[20]\tvalidation_0-error:0.05882\n",
      "[21]\tvalidation_0-error:0.05730\n",
      "[22]\tvalidation_0-error:0.05806\n",
      "[23]\tvalidation_0-error:0.05195\n",
      "[24]\tvalidation_0-error:0.04736\n",
      "[25]\tvalidation_0-error:0.04507\n",
      "[26]\tvalidation_0-error:0.04431\n",
      "[27]\tvalidation_0-error:0.04660\n",
      "[28]\tvalidation_0-error:0.04431\n",
      "[29]\tvalidation_0-error:0.04125\n",
      "[30]\tvalidation_0-error:0.03896\n",
      "[31]\tvalidation_0-error:0.03514\n",
      "[32]\tvalidation_0-error:0.03514\n",
      "[33]\tvalidation_0-error:0.02979\n",
      "[34]\tvalidation_0-error:0.02903\n",
      "[35]\tvalidation_0-error:0.02827\n",
      "[36]\tvalidation_0-error:0.02445\n",
      "[37]\tvalidation_0-error:0.02368\n",
      "[38]\tvalidation_0-error:0.02292\n",
      "[39]\tvalidation_0-error:0.01986\n",
      "[40]\tvalidation_0-error:0.02215\n",
      "[41]\tvalidation_0-error:0.01757\n",
      "[42]\tvalidation_0-error:0.01757\n",
      "[43]\tvalidation_0-error:0.01986\n",
      "[44]\tvalidation_0-error:0.01604\n",
      "[45]\tvalidation_0-error:0.01528\n",
      "[46]\tvalidation_0-error:0.01299\n",
      "[47]\tvalidation_0-error:0.00993\n",
      "[48]\tvalidation_0-error:0.01146\n",
      "[49]\tvalidation_0-error:0.00917\n",
      "[50]\tvalidation_0-error:0.00917\n",
      "[51]\tvalidation_0-error:0.00917\n",
      "[52]\tvalidation_0-error:0.00840\n",
      "[53]\tvalidation_0-error:0.00764\n",
      "[54]\tvalidation_0-error:0.00840\n",
      "[55]\tvalidation_0-error:0.00764\n",
      "[56]\tvalidation_0-error:0.00764\n",
      "[57]\tvalidation_0-error:0.00688\n",
      "[58]\tvalidation_0-error:0.00688\n",
      "[59]\tvalidation_0-error:0.00764\n",
      "[60]\tvalidation_0-error:0.00764\n",
      "[61]\tvalidation_0-error:0.00458\n",
      "[62]\tvalidation_0-error:0.00535\n",
      "[63]\tvalidation_0-error:0.00458\n",
      "[64]\tvalidation_0-error:0.00382\n",
      "[65]\tvalidation_0-error:0.00382\n",
      "[66]\tvalidation_0-error:0.00306\n",
      "[67]\tvalidation_0-error:0.00458\n",
      "[68]\tvalidation_0-error:0.00306\n",
      "[69]\tvalidation_0-error:0.00153\n",
      "[70]\tvalidation_0-error:0.00229\n",
      "[71]\tvalidation_0-error:0.00153\n",
      "[72]\tvalidation_0-error:0.00076\n",
      "[73]\tvalidation_0-error:0.00153\n",
      "[74]\tvalidation_0-error:0.00076\n",
      "[75]\tvalidation_0-error:0.00076\n",
      "[76]\tvalidation_0-error:0.00076\n",
      "[77]\tvalidation_0-error:0.00076\n",
      "[78]\tvalidation_0-error:0.00076\n",
      "[79]\tvalidation_0-error:0.00076\n",
      "[80]\tvalidation_0-error:0.00153\n",
      "[81]\tvalidation_0-error:0.00076\n",
      "Accuracy: 83.78%\n"
     ]
    }
   ],
   "source": [
    "model = XGBClassifier(booster='gbtree', objective='binary:logistic', random_state=2,\n",
    "                     n_estimators = 100,\n",
    "                     learning_rate = 0.2,\n",
    "                     max_depth = 5,\n",
    "                     gamma = 0.01,\n",
    "                     subsample = 0.6,\n",
    "                     colsample_bytree=0.5)\n",
    "eval_set = [(X_train_transformed, y_train)]\n",
    "eval_metric='error'\n",
    "model.fit(X_train_transformed, y_train, eval_metric=eval_metric, eval_set=eval_set, early_stopping_rounds=10)\n",
    "# make predictions for test data\n",
    "y_pred = model.predict(X_val_transformed)\n",
    "# evaluate predictions\n",
    "accuracy = accuracy_score(y_val, y_pred)\n",
    "print(\"Accuracy: %.2f%%\" % (accuracy * 100.0))"
   ]
  },
  {
   "cell_type": "code",
   "execution_count": 49,
   "metadata": {},
   "outputs": [
    {
     "data": {
      "text/plain": [
       "<matplotlib.axes._subplots.AxesSubplot at 0x2bf8bcc4fd0>"
      ]
     },
     "execution_count": 49,
     "metadata": {},
     "output_type": "execute_result"
    },
    {
     "data": {
      "image/png": "[encoded data removed]",
      "text/plain": [
       "<Figure size 432x288 with 2 Axes>"
      ]
     },
     "metadata": {
      "needs_background": "light"
     },
     "output_type": "display_data"
    }
   ],
   "source": [
    "from sklearn.metrics import confusion_matrix\n",
    "\n",
    "cf_matrix = confusion_matrix(y_val, y_pred)\n",
    "\n",
    "group_names = ['True Neg','False Pos','False Neg','True Pos']\n",
    "group_counts = ['{0:0.0f}'.format(value) for value in\n",
    "                cf_matrix.flatten()]\n",
    "group_percentages = ['{0:.2%}'.format(value) for value in\n",
    "                     cf_matrix.flatten()/np.sum(cf_matrix)]\n",
    "labels = [f'{v1}\\n{v2}\\n{v3}' for v1, v2, v3 in\n",
    "          zip(group_names,group_counts,group_percentages)]\n",
    "labels = np.asarray(labels).reshape(2,2)\n",
    "\n",
    "import seaborn as sns\n",
    "sns.heatmap(cf_matrix, annot=True, fmt='', cmap='Blues')"
   ]
  },
  {
   "cell_type": "markdown",
   "metadata": {},
   "source": [
    "### XGBoost Feature importance"
   ]
  },
  {
   "cell_type": "markdown",
   "metadata": {},
   "source": [
    "XGboost is basically a DecisionTree ensemble.\n",
    "\n",
    "Importance is calculated for a single decision tree by the amount that each attribute split point improves the performance measure, weighted by the number of observations the node is responsible for. The performance measure may be the purity (Gini index) used to select the split points or another more specific error function.\n",
    "\n",
    "The feature importances are then averaged across all of the the decision trees within the model.\n",
    "\n",
    "https://machinelearningmastery.com/feature-importance-and-feature-selection-with-xgboost-in-python/"
   ]
  },
  {
   "cell_type": "code",
   "execution_count": 50,
   "metadata": {},
   "outputs": [
    {
     "name": "stdout",
     "output_type": "stream",
     "text": [
      "[0.         0.00435545 0.0121394  0.         0.         0.02717895\n",
      " 0.         0.01539566 0.00793658 0.01466941 0.03119546 0.01866295\n",
      " 0.01099052 0.01013612 0.01542765 0.01482716 0.02026839 0.01642813\n",
      " 0.01559337 0.03339575 0.01275978 0.01606703 0.01293919 0.02468523\n",
      " 0.01083994 0.01046736 0.01358363 0.01880948 0.01339401 0.01285016\n",
      " 0.01774981 0.02298987 0.01246637 0.02451786 0.01131003 0.02339466\n",
      " 0.02718531 0.01726932 0.01481911 0.01059641 0.01018347 0.01828236\n",
      " 0.01609265 0.02134658 0.01867654 0.01854447 0.01035818 0.04312115\n",
      " 0.02920661 0.04740239 0.01490732 0.01630784 0.01220862 0.0409365\n",
      " 0.01070424 0.0110369  0.03057816 0.01790721 0.01490325]\n"
     ]
    },
    {
     "data": {
      "image/png": "[encoded data removed]",
      "text/plain": [
       "<Figure size 432x288 with 1 Axes>"
      ]
     },
     "metadata": {
      "needs_background": "light"
     },
     "output_type": "display_data"
    }
   ],
   "source": [
    "from matplotlib import pyplot\n",
    "\n",
    "print(model.feature_importances_)\n",
    "# plot\n",
    "pyplot.bar(range(len(model.feature_importances_)), model.feature_importances_)\n",
    "pyplot.show()"
   ]
  },
  {
   "cell_type": "code",
   "execution_count": 51,
   "metadata": {},
   "outputs": [],
   "source": [
    "pd.set_option('display.max_columns', None)\n",
    "\n",
    "sm_df = pd.DataFrame(X_train_transformed.toarray())\n"
   ]
  },
  {
   "cell_type": "code",
   "execution_count": 52,
   "metadata": {},
   "outputs": [],
   "source": [
    "from scipy.sparse import csr_matrix\n",
    "from scipy.sparse import hstack    \n",
    "    \n",
    "categorical_columns= X.columns[X.dtypes==object].tolist()\n",
    "ohe = OneHotEncoder() \n",
    "hot = ohe.fit_transform(X[categorical_columns])\n",
    "cold_df = X.select_dtypes(exclude=[\"object\"])\n",
    "cold = csr_matrix(cold_df)\n",
    "final_sparse_matrix = hstack((hot, cold))\n",
    "final_csr_matrix = final_sparse_matrix.tocsr()"
   ]
  },
  {
   "cell_type": "code",
   "execution_count": 53,
   "metadata": {},
   "outputs": [
    {
     "data": {
      "text/plain": [
       "array(['Final_Cluster_0', 'Final_Cluster_1', 'Final_Cluster_3',\n",
       "       'Final_Cluster_4', 'Final_Cluster_5', 'Final_Cluster_6',\n",
       "       'Final_Cluster_7', 'Final_Cluster_8', 'Final_Cluster_9'],\n",
       "      dtype=object)"
      ]
     },
     "execution_count": 53,
     "metadata": {},
     "output_type": "execute_result"
    }
   ],
   "source": [
    "ohe.get_feature_names(categorical_columns)"
   ]
  },
  {
   "cell_type": "code",
   "execution_count": 54,
   "metadata": {},
   "outputs": [
    {
     "data": {
      "text/plain": [
       "Index(['intelligent', 'real', 'touching', 'relatable', 'sad', 'romantic',\n",
       "       'informative', 'mean', 'fake', 'glamorous', 'original', 'predictable',\n",
       "       'fresh', 'mindless', 'unrelatable', 'imaginative', 'wholesome',\n",
       "       'inspiring', 'shallow', 'edgy', 'fastpaced', 'disturbing', 'dramatic',\n",
       "       'outrageous', 'exciting', 'calming', 'slow', 'unoriginal', 'uplifting',\n",
       "       'sexy', 'deep', 'scary', 'thirlling_susp', 'fun_funny',\n",
       "       'info_real_int_insp', 'fun_outrag_mindless',\n",
       "       'fastpaced_thrilling_exciting', 'scary_dist_edgy_thrill',\n",
       "       'origi_imagin_fresh_imag', 'sad_dramatic_deep_touching',\n",
       "       'fake_unrel_unorig_predic', 'sexy_glam_rom',\n",
       "       'touching_wholesome_uplifting', 'mean_edgy', 'is_favorite_avg',\n",
       "       'social_people', 'casual_viewer', 'serious', 'follower', 'freq_avg'],\n",
       "      dtype='object')"
      ]
     },
     "execution_count": 54,
     "metadata": {},
     "output_type": "execute_result"
    }
   ],
   "source": [
    "cold_df.columns"
   ]
  },
  {
   "cell_type": "code",
   "execution_count": 56,
   "metadata": {},
   "outputs": [
    {
     "data": {
      "text/html": [
       "<div>\n",
       "<style scoped>\n",
       "    .dataframe tbody tr th:only-of-type {\n",
       "        vertical-align: middle;\n",
       "    }\n",
       "\n",
       "    .dataframe tbody tr th {\n",
       "        vertical-align: top;\n",
       "    }\n",
       "\n",
       "    .dataframe thead th {\n",
       "        text-align: right;\n",
       "    }\n",
       "</style>\n",
       "<table border=\"1\" class=\"dataframe\">\n",
       "  <thead>\n",
       "    <tr style=\"text-align: right;\">\n",
       "      <th></th>\n",
       "      <th>Variables</th>\n",
       "      <th>Importance</th>\n",
       "    </tr>\n",
       "  </thead>\n",
       "  <tbody>\n",
       "    <tr>\n",
       "      <th>49</th>\n",
       "      <td>fake_unrel_unorig_predic</td>\n",
       "      <td>0.047402</td>\n",
       "    </tr>\n",
       "    <tr>\n",
       "      <th>47</th>\n",
       "      <td>origi_imagin_fresh_imag</td>\n",
       "      <td>0.043121</td>\n",
       "    </tr>\n",
       "    <tr>\n",
       "      <th>53</th>\n",
       "      <td>is_favorite_avg</td>\n",
       "      <td>0.040937</td>\n",
       "    </tr>\n",
       "    <tr>\n",
       "      <th>19</th>\n",
       "      <td>original</td>\n",
       "      <td>0.033396</td>\n",
       "    </tr>\n",
       "    <tr>\n",
       "      <th>10</th>\n",
       "      <td>real</td>\n",
       "      <td>0.031195</td>\n",
       "    </tr>\n",
       "    <tr>\n",
       "      <th>56</th>\n",
       "      <td>serious</td>\n",
       "      <td>0.030578</td>\n",
       "    </tr>\n",
       "    <tr>\n",
       "      <th>48</th>\n",
       "      <td>sad_dramatic_deep_touching</td>\n",
       "      <td>0.029207</td>\n",
       "    </tr>\n",
       "    <tr>\n",
       "      <th>36</th>\n",
       "      <td>unoriginal</td>\n",
       "      <td>0.027185</td>\n",
       "    </tr>\n",
       "    <tr>\n",
       "      <th>5</th>\n",
       "      <td>Final_Cluster_6</td>\n",
       "      <td>0.027179</td>\n",
       "    </tr>\n",
       "    <tr>\n",
       "      <th>23</th>\n",
       "      <td>unrelatable</td>\n",
       "      <td>0.024685</td>\n",
       "    </tr>\n",
       "  </tbody>\n",
       "</table>\n",
       "</div>"
      ],
      "text/plain": [
       "                     Variables  Importance\n",
       "49    fake_unrel_unorig_predic    0.047402\n",
       "47     origi_imagin_fresh_imag    0.043121\n",
       "53             is_favorite_avg    0.040937\n",
       "19                    original    0.033396\n",
       "10                        real    0.031195\n",
       "56                     serious    0.030578\n",
       "48  sad_dramatic_deep_touching    0.029207\n",
       "36                  unoriginal    0.027185\n",
       "5              Final_Cluster_6    0.027179\n",
       "23                 unrelatable    0.024685"
      ]
     },
     "execution_count": 56,
     "metadata": {},
     "output_type": "execute_result"
    }
   ],
   "source": [
    "column_names = [\"Variables\", \"Importance\"]\n",
    "\n",
    "imp = pd.DataFrame(columns = column_names)  \n",
    "imp[\"Variables\"] = variables\n",
    "imp[\"Importance\"] = model.feature_importances_\n",
    "imp = imp.sort_values(by=['Importance'], ascending=False)\n",
    "imp.head(10)"
   ]
  },
  {
   "cell_type": "code",
   "execution_count": 58,
   "metadata": {},
   "outputs": [
    {
     "data": {
      "text/plain": [
       "262    1.0\n",
       "212    1.0\n",
       "418    1.0\n",
       "192    1.0\n",
       "194    1.0\n",
       "      ... \n",
       "228    0.0\n",
       "226    0.0\n",
       "221    0.0\n",
       "220    0.0\n",
       "523    0.0\n",
       "Length: 524, dtype: float64"
      ]
     },
     "execution_count": 58,
     "metadata": {},
     "output_type": "execute_result"
    }
   ],
   "source": [
    "# reorder the predicted values in descending order and calculate the cumulative sum\n",
    "pred_v = pd.Series(y_pred)\n",
    "pred_v = pred_v.sort_values(ascending=False)\n",
    "pred_v"
   ]
  },
  {
   "cell_type": "code",
   "execution_count": 59,
   "metadata": {},
   "outputs": [
    {
     "data": {
      "text/plain": [
       "Text(0.5, 1.0, 'Cumulative Gains Chart')"
      ]
     },
     "execution_count": 59,
     "metadata": {},
     "output_type": "execute_result"
    },
    {
     "data": {
      "image/png": "[encoded data removed]",
      "text/plain": [
       "<Figure size 432x288 with 1 Axes>"
      ]
     },
     "metadata": {
      "needs_background": "light"
     },
     "output_type": "display_data"
    }
   ],
   "source": [
    "from dmba import regressionSummary, classificationSummary, liftChart, gainsChart\n",
    "\n",
    "ax = gainsChart(pred_v)\n",
    "ax.set_ylabel('Cumulative Rating')\n",
    "ax.set_title('Cumulative Gains Chart')"
   ]
  },
  {
   "cell_type": "code",
   "execution_count": 60,
   "metadata": {},
   "outputs": [
    {
     "data": {
      "text/plain": [
       "Text(0, 0.5, 'Lift')"
      ]
     },
     "execution_count": 60,
     "metadata": {},
     "output_type": "execute_result"
    },
    {
     "data": {
      "image/png": "[encoded data removed]",
      "text/plain": [
       "<Figure size 432x288 with 1 Axes>"
      ]
     },
     "metadata": {
      "needs_background": "light"
     },
     "output_type": "display_data"
    }
   ],
   "source": [
    "ax = liftChart(pred_v)\n",
    "ax.set_ylabel('Lift')"
   ]
  },
  {
   "cell_type": "code",
   "execution_count": null,
   "metadata": {},
   "outputs": [],
   "source": []
  }
 ],
 "metadata": {
  "kernelspec": {
   "display_name": "Python 3",
   "language": "python",
   "name": "python3"
  },
  "language_info": {
   "codemirror_mode": {
    "name": "ipython",
    "version": 3
   },
   "file_extension": ".py",
   "mimetype": "text/x-python",
   "name": "python",
   "nbconvert_exporter": "python",
   "pygments_lexer": "ipython3",
   "version": "3.8.5"
  }
 },
 "nbformat": 4,
 "nbformat_minor": 4
}
